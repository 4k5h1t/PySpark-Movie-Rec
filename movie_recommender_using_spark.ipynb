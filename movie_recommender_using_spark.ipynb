{
  "cells": [
    {
      "cell_type": "markdown",
      "metadata": {
        "id": "view-in-github",
        "colab_type": "text"
      },
      "source": [
        "<a href=\"https://colab.research.google.com/github/4k5h1t/PySpark-Movie-Rec/blob/main/movie_recommender_using_spark.ipynb\" target=\"_parent\"><img src=\"https://colab.research.google.com/assets/colab-badge.svg\" alt=\"Open In Colab\"/></a>"
      ]
    },
    {
      "cell_type": "markdown",
      "metadata": {
        "id": "8ucva9vUydNX"
      },
      "source": [
        "# Movie Recommender Systems using Spark with PySpark"
      ]
    },
    {
      "cell_type": "markdown",
      "source": [
        "## Installing required dependencies\n"
      ],
      "metadata": {
        "id": "gY94IHMjyUpl"
      }
    },
    {
      "cell_type": "code",
      "execution_count": null,
      "metadata": {
        "colab": {
          "base_uri": "https://localhost:8080/"
        },
        "id": "M3KM7RGWsJXf",
        "outputId": "9c8277e6-376c-4c87-a170-607d18f97038"
      },
      "outputs": [
        {
          "output_type": "stream",
          "name": "stdout",
          "text": [
            "Looking in indexes: https://pypi.org/simple, https://us-python.pkg.dev/colab-wheels/public/simple/\n",
            "Collecting findspark\n",
            "  Downloading findspark-2.0.1-py2.py3-none-any.whl (4.4 kB)\n",
            "Installing collected packages: findspark\n",
            "Successfully installed findspark-2.0.1\n",
            "Looking in indexes: https://pypi.org/simple, https://us-python.pkg.dev/colab-wheels/public/simple/\n",
            "Collecting pyspark\n",
            "  Downloading pyspark-3.3.1.tar.gz (281.4 MB)\n",
            "\u001b[K     |████████████████████████████████| 281.4 MB 46 kB/s \n",
            "\u001b[?25hCollecting py4j==0.10.9.5\n",
            "  Downloading py4j-0.10.9.5-py2.py3-none-any.whl (199 kB)\n",
            "\u001b[K     |████████████████████████████████| 199 kB 50.9 MB/s \n",
            "\u001b[?25hBuilding wheels for collected packages: pyspark\n",
            "  Building wheel for pyspark (setup.py) ... \u001b[?25l\u001b[?25hdone\n",
            "  Created wheel for pyspark: filename=pyspark-3.3.1-py2.py3-none-any.whl size=281845514 sha256=ae590a356fa8d79f4fa7d53ae9ab9e9727f51273d06c96d6ad8036efd6f11070\n",
            "  Stored in directory: /root/.cache/pip/wheels/42/59/f5/79a5bf931714dcd201b26025347785f087370a10a3329a899c\n",
            "Successfully built pyspark\n",
            "Installing collected packages: py4j, pyspark\n",
            "Successfully installed py4j-0.10.9.5 pyspark-3.3.1\n"
          ]
        }
      ],
      "source": [
        "!pip install findspark\n",
        "!pip install pyspark"
      ]
    },
    {
      "cell_type": "markdown",
      "source": [
        "## Downloading and Extracting Dataset"
      ],
      "metadata": {
        "id": "N4rxFHsxyZw3"
      }
    },
    {
      "cell_type": "code",
      "execution_count": null,
      "metadata": {
        "colab": {
          "base_uri": "https://localhost:8080/"
        },
        "id": "Wq1sJ8NzHCzu",
        "outputId": "07b65eed-8821-4862-aad2-e471ab45dd18"
      },
      "outputs": [
        {
          "output_type": "stream",
          "name": "stdout",
          "text": [
            "Reading package lists... Done\n",
            "Building dependency tree       \n",
            "Reading state information... Done\n",
            "The following package was automatically installed and is no longer required:\n",
            "  libnvidia-common-460\n",
            "Use 'apt autoremove' to remove it.\n",
            "The following additional packages will be installed:\n",
            "  libc-ares2\n",
            "The following NEW packages will be installed:\n",
            "  aria2 libc-ares2\n",
            "0 upgraded, 2 newly installed, 0 to remove and 5 not upgraded.\n",
            "Need to get 1,274 kB of archives.\n",
            "After this operation, 4,912 kB of additional disk space will be used.\n",
            "Get:1 http://archive.ubuntu.com/ubuntu bionic-updates/main amd64 libc-ares2 amd64 1.14.0-1ubuntu0.1 [37.5 kB]\n",
            "Get:2 http://archive.ubuntu.com/ubuntu bionic/universe amd64 aria2 amd64 1.33.1-1 [1,236 kB]\n",
            "Fetched 1,274 kB in 1s (1,053 kB/s)\n",
            "Selecting previously unselected package libc-ares2:amd64.\n",
            "(Reading database ... 123991 files and directories currently installed.)\n",
            "Preparing to unpack .../libc-ares2_1.14.0-1ubuntu0.1_amd64.deb ...\n",
            "Unpacking libc-ares2:amd64 (1.14.0-1ubuntu0.1) ...\n",
            "Selecting previously unselected package aria2.\n",
            "Preparing to unpack .../aria2_1.33.1-1_amd64.deb ...\n",
            "Unpacking aria2 (1.33.1-1) ...\n",
            "Setting up libc-ares2:amd64 (1.14.0-1ubuntu0.1) ...\n",
            "Setting up aria2 (1.33.1-1) ...\n",
            "Processing triggers for man-db (2.8.3-2ubuntu0.1) ...\n",
            "Processing triggers for libc-bin (2.27-3ubuntu1.6) ...\n",
            "\n",
            "11/17 04:12:05 [\u001b[1;32mNOTICE\u001b[0m] Downloading 1 item(s)\n",
            "\u001b[0m\n",
            "11/17 04:12:06 [\u001b[1;32mNOTICE\u001b[0m] Download complete: ./MovieLens//ml-25m.zip\n",
            "\n",
            "Download Results:\n",
            "gid   |stat|avg speed  |path/URI\n",
            "======+====+===========+=======================================================\n",
            "396720|\u001b[1;32mOK\u001b[0m  |   179MiB/s|./MovieLens//ml-25m.zip\n",
            "\n",
            "Status Legend:\n",
            "(OK):download completed.\n"
          ]
        }
      ],
      "source": [
        "!apt-get install -y aria2\n",
        "!mkdir -p ./MovieLens/ \n",
        "!aria2c -s 16 -x 16 \"https://files.grouplens.org/datasets/movielens/ml-25m.zip\" -d ./MovieLens/\n",
        "import zipfile\n",
        "with zipfile.ZipFile(\"/content/MovieLens/ml-25m.zip\", 'r') as zip_ref:\n",
        "    zip_ref.extractall(\"/content/MovieLens\")"
      ]
    },
    {
      "cell_type": "markdown",
      "source": [
        "## Setting up and installing SPARK and Java Dependencies"
      ],
      "metadata": {
        "id": "-YrF3LKlygix"
      }
    },
    {
      "cell_type": "code",
      "execution_count": null,
      "metadata": {
        "id": "GgnLle5s7wyN"
      },
      "outputs": [],
      "source": [
        "!apt-get install openjdk-8-jdk-headless -qq > /dev/null\n",
        "\n",
        "!wget -q https://archive.apache.org/dist/spark/spark-3.2.1/spark-3.2.1-bin-hadoop3.2.tgz\n",
        "\n",
        "!tar xf spark-3.2.1-bin-hadoop3.2.tgz\n",
        "\n",
        "import os\n",
        "os.environ[\"JAVA_HOME\"] = \"/usr/lib/jvm/java-8-openjdk-amd64\"\n",
        "os.environ[\"SPARK_HOME\"] = \"/content/spark-3.2.1-bin-hadoop3.2\""
      ]
    },
    {
      "cell_type": "markdown",
      "source": [
        "## Importing PySpark"
      ],
      "metadata": {
        "id": "IwcvAkwHyugv"
      }
    },
    {
      "cell_type": "code",
      "execution_count": null,
      "metadata": {
        "id": "1plW0XOuydNh"
      },
      "outputs": [],
      "source": [
        "import findspark\n",
        "findspark.init('/content/spark-3.2.1-bin-hadoop3.2')\n",
        "import pyspark"
      ]
    },
    {
      "cell_type": "markdown",
      "source": [
        "## Starting up Spark Session, Clusters etc. "
      ],
      "metadata": {
        "id": "hhAjfq1SywLC"
      }
    },
    {
      "cell_type": "code",
      "execution_count": null,
      "metadata": {
        "id": "8pggfi0RydNi"
      },
      "outputs": [],
      "source": [
        "from pyspark.sql import SparkSession\n",
        "spark = SparkSession.builder.appName('recommendation').getOrCreate()"
      ]
    },
    {
      "cell_type": "markdown",
      "source": [
        "## And importing ALS model as well as Evaluation metrics (Root Mean Square Error)"
      ],
      "metadata": {
        "id": "Jjivd2mUzKcU"
      }
    },
    {
      "cell_type": "code",
      "execution_count": null,
      "metadata": {
        "id": "bkB5Mf6bydNj"
      },
      "outputs": [],
      "source": [
        "from pyspark.ml.evaluation import RegressionEvaluator\n",
        "from pyspark.ml.recommendation import ALS"
      ]
    },
    {
      "cell_type": "markdown",
      "source": [
        "## Reading loaded Dataset"
      ],
      "metadata": {
        "id": "fTVhSWL1z0Mr"
      }
    },
    {
      "cell_type": "code",
      "execution_count": null,
      "metadata": {
        "id": "AD24KfKMydNj"
      },
      "outputs": [],
      "source": [
        "data = spark.read.csv('MovieLens/ml-25m/ratings.csv',inferSchema=True,header=True)"
      ]
    },
    {
      "cell_type": "markdown",
      "source": [
        "## Describing / Showcasing Dataset"
      ],
      "metadata": {
        "id": "WMcxfwChz8kj"
      }
    },
    {
      "cell_type": "code",
      "execution_count": null,
      "metadata": {
        "colab": {
          "base_uri": "https://localhost:8080/"
        },
        "id": "R_Y0ruMsydNk",
        "outputId": "c5b6b4a8-c5ae-4f4e-854b-077d08e987d6"
      },
      "outputs": [
        {
          "output_type": "execute_result",
          "data": {
            "text/plain": [
              "Row(userId=1, movieId=296, rating=5.0, timestamp=1147880044)"
            ]
          },
          "metadata": {},
          "execution_count": 8
        }
      ],
      "source": [
        "data.head()"
      ]
    },
    {
      "cell_type": "code",
      "execution_count": null,
      "metadata": {
        "colab": {
          "base_uri": "https://localhost:8080/"
        },
        "id": "zxV7rJh-ydNl",
        "outputId": "dbd78f15-01e5-4043-b848-596da12329fd"
      },
      "outputs": [
        {
          "output_type": "stream",
          "name": "stdout",
          "text": [
            "root\n",
            " |-- userId: integer (nullable = true)\n",
            " |-- movieId: integer (nullable = true)\n",
            " |-- rating: double (nullable = true)\n",
            " |-- timestamp: integer (nullable = true)\n",
            "\n"
          ]
        }
      ],
      "source": [
        "data.printSchema()"
      ]
    },
    {
      "cell_type": "code",
      "execution_count": null,
      "metadata": {
        "colab": {
          "base_uri": "https://localhost:8080/"
        },
        "id": "3DpeYGItydNn",
        "outputId": "c1483bc1-0a4b-485f-b722-16acf86a0ccf"
      },
      "outputs": [
        {
          "output_type": "stream",
          "name": "stdout",
          "text": [
            "+-------+-----------------+------------------+------------------+--------------------+\n",
            "|summary|           userId|           movieId|            rating|           timestamp|\n",
            "+-------+-----------------+------------------+------------------+--------------------+\n",
            "|  count|         25000095|          25000095|          25000095|            25000095|\n",
            "|   mean|81189.28115381162|21387.981943268616| 3.533854451353085|1.2156014431215513E9|\n",
            "| stddev|46791.71589745776| 39198.86210105973|1.0607439611423535| 2.268758080595386E8|\n",
            "|    min|                1|                 1|               0.5|           789652009|\n",
            "|    max|           162541|            209171|               5.0|          1574327703|\n",
            "+-------+-----------------+------------------+------------------+--------------------+\n",
            "\n"
          ]
        }
      ],
      "source": [
        "data.describe().show()"
      ]
    },
    {
      "cell_type": "markdown",
      "source": [
        "## Implementing ML Algorithm and Evaluation"
      ],
      "metadata": {
        "id": "lSmZWQ0D0Dca"
      }
    },
    {
      "cell_type": "markdown",
      "source": [
        "### Train Test Split"
      ],
      "metadata": {
        "id": "VVaTNWGG0Kt-"
      }
    },
    {
      "cell_type": "code",
      "execution_count": null,
      "metadata": {
        "id": "9z9oh3b_ydNo"
      },
      "outputs": [],
      "source": [
        "(train_data, test_data) = data.randomSplit([0.7, 0.3], seed=42)"
      ]
    },
    {
      "cell_type": "markdown",
      "source": [
        "Setting up and Training the ALS Model"
      ],
      "metadata": {
        "id": "C7avO7cj0Ncj"
      }
    },
    {
      "cell_type": "code",
      "execution_count": null,
      "metadata": {
        "id": "wxHWI-o4ydNp"
      },
      "outputs": [],
      "source": [
        "als = ALS(maxIter=5, regParam=0.01, userCol=\"userId\", itemCol=\"movieId\", ratingCol=\"rating\")\n",
        "model = als.fit(train_data)"
      ]
    },
    {
      "cell_type": "markdown",
      "source": [
        "### Testing trained model"
      ],
      "metadata": {
        "id": "ti0VUWjw0Wa5"
      }
    },
    {
      "cell_type": "code",
      "execution_count": null,
      "metadata": {
        "id": "tT5gyD6WydNq"
      },
      "outputs": [],
      "source": [
        "predictions = model.transform(test_data)"
      ]
    },
    {
      "cell_type": "code",
      "execution_count": null,
      "metadata": {
        "colab": {
          "base_uri": "https://localhost:8080/"
        },
        "id": "zvXhzCBpydNq",
        "outputId": "761556fa-5041-43b6-d3a3-fa1cbd795dd7"
      },
      "outputs": [
        {
          "output_type": "stream",
          "name": "stdout",
          "text": [
            "+------+-------+------+----------+----------+\n",
            "|userId|movieId|rating| timestamp|prediction|\n",
            "+------+-------+------+----------+----------+\n",
            "|     1|    307|   5.0|1147868828| 3.8360734|\n",
            "|     1|   1175|   3.5|1147868826| 4.8629894|\n",
            "|     1|   1237|   5.0|1147868839|  3.840872|\n",
            "|     1|   1250|   4.0|1147868414| 3.4070103|\n",
            "|     1|   2012|   2.5|1147868068|  2.580594|\n",
            "|     1|   2068|   2.5|1147869044| 3.6549873|\n",
            "|     1|   2161|   3.5|1147868609| 2.5584805|\n",
            "|     1|   2692|   5.0|1147869100|  3.935215|\n",
            "|     1|   3448|   4.0|1147868480| 3.1274965|\n",
            "|     1|   3949|   5.0|1147868678| 4.5230117|\n",
            "|     1|   4144|   5.0|1147868898| 3.4086895|\n",
            "|     1|   4703|   4.0|1147869223| 3.0952768|\n",
            "|     1|   4973|   4.5|1147869080| 4.9007077|\n",
            "|     1|   5147|   4.0|1147877654| 3.3945804|\n",
            "|     1|   5684|   2.0|1147879797|  4.514249|\n",
            "|     1|   5878|   4.0|1147868807| 3.6380153|\n",
            "|     1|   5912|   3.0|1147878698| 1.8637687|\n",
            "|     1|   6377|   4.0|1147868469|  4.405485|\n",
            "|     1|   6954|   3.5|1147869150|  3.429809|\n",
            "|     1|   7209|   4.0|1147877986| 4.1296782|\n",
            "+------+-------+------+----------+----------+\n",
            "only showing top 20 rows\n",
            "\n"
          ]
        }
      ],
      "source": [
        "predictions.show()"
      ]
    },
    {
      "cell_type": "markdown",
      "source": [
        "### Evaluating Predictions"
      ],
      "metadata": {
        "id": "rhXMW87t0e3F"
      }
    },
    {
      "cell_type": "code",
      "execution_count": null,
      "metadata": {
        "colab": {
          "base_uri": "https://localhost:8080/"
        },
        "id": "CiD8NclDydNr",
        "outputId": "eb685e19-47c4-4d03-8851-7316c69c7329"
      },
      "outputs": [
        {
          "output_type": "stream",
          "name": "stdout",
          "text": [
            "Root-mean-square error = nan\n"
          ]
        }
      ],
      "source": [
        "evaluator = RegressionEvaluator(metricName=\"rmse\", labelCol=\"rating\",predictionCol=\"prediction\")\n",
        "rmse = evaluator.evaluate(predictions)\n",
        "print(\"Root-mean-square error = \" + str(rmse))"
      ]
    },
    {
      "cell_type": "markdown",
      "metadata": {
        "id": "Tkvjs65mydNs"
      },
      "source": [
        "The RMSE described our error in terms of the stars rating column."
      ]
    },
    {
      "cell_type": "markdown",
      "metadata": {
        "id": "S_0mHtJbydNs"
      },
      "source": [
        "So now that we have the model, how would you actually supply a recommendation to a user?\n",
        "\n",
        "The same way we did with the test data! For example:"
      ]
    },
    {
      "cell_type": "markdown",
      "source": [
        "## Extracting information of one user"
      ],
      "metadata": {
        "id": "goYQYpw70j3Z"
      }
    },
    {
      "cell_type": "code",
      "execution_count": null,
      "metadata": {
        "colab": {
          "base_uri": "https://localhost:8080/"
        },
        "id": "BOfxtFuGydNs",
        "outputId": "a3615b16-6df2-40d4-b6f6-ced2ed09994e"
      },
      "outputs": [
        {
          "name": "stdout",
          "output_type": "stream",
          "text": [
            "Enter a User ID to find recommendations for: 4\n"
          ]
        }
      ],
      "source": [
        "userId = int(input('Enter a User ID to find recommendations for: '))\n",
        "single_user = test_data.filter(test_data['userId']==userId).select(['movieId','userId'])"
      ]
    },
    {
      "cell_type": "code",
      "execution_count": null,
      "metadata": {
        "colab": {
          "base_uri": "https://localhost:8080/"
        },
        "id": "yYj2tyb4ydNs",
        "outputId": "a4a2a822-cc5f-42e9-d183-06b2f70824e9"
      },
      "outputs": [
        {
          "output_type": "stream",
          "name": "stdout",
          "text": [
            "+-------+------+\n",
            "|movieId|userId|\n",
            "+-------+------+\n",
            "|   1036|     4|\n",
            "|   1210|     4|\n",
            "|   1220|     4|\n",
            "|   1527|     4|\n",
            "|   1610|     4|\n",
            "|   1732|     4|\n",
            "|   2985|     4|\n",
            "|   3033|     4|\n",
            "|   3114|     4|\n",
            "|   3827|     4|\n",
            "|   5299|     4|\n",
            "|   5952|     4|\n",
            "|   6156|     4|\n",
            "|   6874|     4|\n",
            "|   7373|     4|\n",
            "|   8641|     4|\n",
            "|   8665|     4|\n",
            "|  34048|     4|\n",
            "|  34405|     4|\n",
            "|  45431|     4|\n",
            "+-------+------+\n",
            "only showing top 20 rows\n",
            "\n"
          ]
        }
      ],
      "source": [
        "single_user.show()"
      ]
    },
    {
      "cell_type": "markdown",
      "source": [
        "## Running Model again for one selected user (testing)"
      ],
      "metadata": {
        "id": "7gueNFXk0p0m"
      }
    },
    {
      "cell_type": "code",
      "execution_count": null,
      "metadata": {
        "id": "yABzy_5qydNt"
      },
      "outputs": [],
      "source": [
        "reccomendations = model.transform(single_user)"
      ]
    },
    {
      "cell_type": "code",
      "execution_count": null,
      "metadata": {
        "colab": {
          "base_uri": "https://localhost:8080/"
        },
        "id": "IhhRuY5jydNt",
        "outputId": "295cdeb8-81f7-4f11-8995-175da4a7bf2b"
      },
      "outputs": [
        {
          "output_type": "stream",
          "name": "stdout",
          "text": [
            "+-------+------+----------+\n",
            "|movieId|userId|prediction|\n",
            "+-------+------+----------+\n",
            "| 180989|     4|       NaN|\n",
            "|  86345|     4| 4.7234216|\n",
            "| 148426|     4| 4.4276094|\n",
            "|   1732|     4|  4.346176|\n",
            "| 176371|     4| 4.2983685|\n",
            "| 164179|     4| 4.2658653|\n",
            "| 115713|     4|  4.204432|\n",
            "|  79702|     4| 4.1920958|\n",
            "| 115569|     4| 4.1544185|\n",
            "| 148626|     4|  4.154091|\n",
            "|  72226|     4| 4.0784645|\n",
            "|  51255|     4|  4.045676|\n",
            "|   1220|     4|  4.003692|\n",
            "|  99114|     4| 3.8006232|\n",
            "|  34405|     4|   3.79591|\n",
            "|   8641|     4| 3.7825315|\n",
            "|   6874|     4| 3.7486234|\n",
            "|  70286|     4| 3.7247272|\n",
            "|  58559|     4| 3.7219198|\n",
            "|  96737|     4| 3.6870158|\n",
            "+-------+------+----------+\n",
            "only showing top 20 rows\n",
            "\n"
          ]
        }
      ],
      "source": [
        "reccomendations.orderBy('prediction',ascending=False).show()"
      ]
    },
    {
      "cell_type": "markdown",
      "source": [
        "## Analysing with the help of supporting Datasets (Easier to Understand)"
      ],
      "metadata": {
        "id": "YtzjeCy40z7_"
      }
    },
    {
      "cell_type": "code",
      "execution_count": null,
      "metadata": {
        "colab": {
          "base_uri": "https://localhost:8080/"
        },
        "id": "YUmTzUY-ydNt",
        "outputId": "aa51efcc-e8bb-4cfa-9451-a4ceb3c55a74"
      },
      "outputs": [
        {
          "output_type": "stream",
          "name": "stdout",
          "text": [
            "+-------+--------------------+--------------------+\n",
            "|movieId|               title|              genres|\n",
            "+-------+--------------------+--------------------+\n",
            "|      1|    Toy Story (1995)|Adventure|Animati...|\n",
            "|      2|      Jumanji (1995)|Adventure|Childre...|\n",
            "|      3|Grumpier Old Men ...|      Comedy|Romance|\n",
            "|      4|Waiting to Exhale...|Comedy|Drama|Romance|\n",
            "|      5|Father of the Bri...|              Comedy|\n",
            "|      6|         Heat (1995)|Action|Crime|Thri...|\n",
            "|      7|      Sabrina (1995)|      Comedy|Romance|\n",
            "|      8| Tom and Huck (1995)|  Adventure|Children|\n",
            "|      9| Sudden Death (1995)|              Action|\n",
            "|     10|    GoldenEye (1995)|Action|Adventure|...|\n",
            "|     11|American Presiden...|Comedy|Drama|Romance|\n",
            "|     12|Dracula: Dead and...|       Comedy|Horror|\n",
            "|     13|        Balto (1995)|Adventure|Animati...|\n",
            "|     14|        Nixon (1995)|               Drama|\n",
            "|     15|Cutthroat Island ...|Action|Adventure|...|\n",
            "|     16|       Casino (1995)|         Crime|Drama|\n",
            "|     17|Sense and Sensibi...|       Drama|Romance|\n",
            "|     18|   Four Rooms (1995)|              Comedy|\n",
            "|     19|Ace Ventura: When...|              Comedy|\n",
            "|     20|  Money Train (1995)|Action|Comedy|Cri...|\n",
            "+-------+--------------------+--------------------+\n",
            "only showing top 20 rows\n",
            "\n"
          ]
        }
      ],
      "source": [
        "moviesdf = spark.read.csv(r\"MovieLens/ml-25m/movies.csv\", inferSchema = True, header = True)  \n",
        "moviesdf.show()"
      ]
    },
    {
      "cell_type": "markdown",
      "source": [
        "## Final Predictions with Movie Titles"
      ],
      "metadata": {
        "id": "8YXn1oCV1EK-"
      }
    },
    {
      "cell_type": "code",
      "execution_count": null,
      "metadata": {
        "colab": {
          "base_uri": "https://localhost:8080/"
        },
        "id": "UdyLavaP-4bo",
        "outputId": "f8ce7ce0-02d7-4c03-f813-8af4ed71378f"
      },
      "outputs": [
        {
          "output_type": "stream",
          "name": "stdout",
          "text": [
            "+------+-------+--------------------+--------------------+----------+\n",
            "|userId|movieId|               title|              genres|prediction|\n",
            "+------+-------+--------------------+--------------------+----------+\n",
            "|     4| 180989| Alien Planet (2005)|Animation|Documen...|       NaN|\n",
            "|     4|  86345|Louis C.K.: Hilar...|              Comedy| 4.7234216|\n",
            "|     4| 148426|Fateful Findings ...|Drama|Fantasy|Thr...| 4.4276094|\n",
            "|     4|   1732|Big Lebowski, The...|        Comedy|Crime|  4.346176|\n",
            "|     4| 176371|Blade Runner 2049...|              Sci-Fi| 4.2983685|\n",
            "|     4| 164179|      Arrival (2016)|              Sci-Fi| 4.2658653|\n",
            "|     4| 115713|   Ex Machina (2015)|Drama|Sci-Fi|Thri...|  4.204432|\n",
            "|     4|  79702|Scott Pilgrim vs....|Action|Comedy|Fan...| 4.1920958|\n",
            "|     4| 115569| Nightcrawler (2014)|Crime|Drama|Thriller| 4.1544185|\n",
            "|     4| 148626|Big Short, The (2...|               Drama|  4.154091|\n",
            "|     4|  72226|Fantastic Mr. Fox...|Adventure|Animati...| 4.0784645|\n",
            "|     4|  51255|     Hot Fuzz (2007)|Action|Comedy|Cri...|  4.045676|\n",
            "|     4|   1220|Blues Brothers, T...|Action|Comedy|Mus...|  4.003692|\n",
            "|     4|  99114|Django Unchained ...|Action|Drama|Western| 3.8006232|\n",
            "|     4|  34405|     Serenity (2005)|Action|Adventure|...|   3.79591|\n",
            "|     4|   8641|Anchorman: The Le...|              Comedy| 3.7825315|\n",
            "|     4|   6874|Kill Bill: Vol. 1...|Action|Crime|Thri...| 3.7486234|\n",
            "|     4|  70286|   District 9 (2009)|Mystery|Sci-Fi|Th...| 3.7247272|\n",
            "|     4|  58559|Dark Knight, The ...|Action|Crime|Dram...| 3.7219198|\n",
            "|     4|  96737|        Dredd (2012)|       Action|Sci-Fi| 3.6870158|\n",
            "+------+-------+--------------------+--------------------+----------+\n",
            "only showing top 20 rows\n",
            "\n"
          ]
        }
      ],
      "source": [
        "rec = reccomendations\n",
        "joined = moviesdf.join(rec, ['movieId'],how=\"inner\")\n",
        "joined.select('userId', 'movieId', 'title', 'genres', 'prediction').orderBy('prediction', ascending=False).show()"
      ]
    }
  ],
  "metadata": {
    "anaconda-cloud": {},
    "colab": {
      "provenance": [],
      "include_colab_link": true
    },
    "kernelspec": {
      "display_name": "Python 3",
      "language": "python",
      "name": "python3"
    },
    "language_info": {
      "codemirror_mode": {
        "name": "ipython",
        "version": 3
      },
      "file_extension": ".py",
      "mimetype": "text/x-python",
      "name": "python",
      "nbconvert_exporter": "python",
      "pygments_lexer": "ipython3",
      "version": "3.6.9"
    }
  },
  "nbformat": 4,
  "nbformat_minor": 0
}