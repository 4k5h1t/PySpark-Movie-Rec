{
  "cells": [
    {
      "cell_type": "markdown",
      "metadata": {
        "id": "view-in-github",
        "colab_type": "text"
      },
      "source": [
        "<a href=\"https://colab.research.google.com/github/4k5h1t/PySpark-Movie-Rec/blob/main/movie_recommender_using_spark.ipynb\" target=\"_parent\"><img src=\"https://colab.research.google.com/assets/colab-badge.svg\" alt=\"Open In Colab\"/></a>"
      ]
    },
    {
      "cell_type": "markdown",
      "metadata": {
        "id": "8ucva9vUydNX"
      },
      "source": [
        "# Movie Recommender Systems using Spark with PySpark"
      ]
    },
    {
      "cell_type": "markdown",
      "metadata": {
        "id": "gY94IHMjyUpl"
      },
      "source": [
        "## Installing required dependencies\n"
      ]
    },
    {
      "cell_type": "code",
      "execution_count": null,
      "metadata": {
        "colab": {
          "base_uri": "https://localhost:8080/"
        },
        "id": "M3KM7RGWsJXf",
        "outputId": "974f3af4-4785-4b07-a213-fbefd2c1e34e"
      },
      "outputs": [
        {
          "output_type": "stream",
          "name": "stdout",
          "text": [
            "Looking in indexes: https://pypi.org/simple, https://us-python.pkg.dev/colab-wheels/public/simple/\n",
            "Collecting findspark\n",
            "  Downloading findspark-2.0.1-py2.py3-none-any.whl (4.4 kB)\n",
            "Installing collected packages: findspark\n",
            "Successfully installed findspark-2.0.1\n",
            "Looking in indexes: https://pypi.org/simple, https://us-python.pkg.dev/colab-wheels/public/simple/\n",
            "Collecting pyspark\n",
            "  Downloading pyspark-3.3.1.tar.gz (281.4 MB)\n",
            "\u001b[K     |████████████████████████████████| 281.4 MB 57 kB/s \n",
            "\u001b[?25hCollecting py4j==0.10.9.5\n",
            "  Downloading py4j-0.10.9.5-py2.py3-none-any.whl (199 kB)\n",
            "\u001b[K     |████████████████████████████████| 199 kB 71.8 MB/s \n",
            "\u001b[?25hBuilding wheels for collected packages: pyspark\n",
            "  Building wheel for pyspark (setup.py) ... \u001b[?25l\u001b[?25hdone\n",
            "  Created wheel for pyspark: filename=pyspark-3.3.1-py2.py3-none-any.whl size=281845514 sha256=17522976b5798c04555ef98a53a74a66100cf7658152a052098f447ff5f40688\n",
            "  Stored in directory: /root/.cache/pip/wheels/42/59/f5/79a5bf931714dcd201b26025347785f087370a10a3329a899c\n",
            "Successfully built pyspark\n",
            "Installing collected packages: py4j, pyspark\n",
            "Successfully installed py4j-0.10.9.5 pyspark-3.3.1\n"
          ]
        }
      ],
      "source": [
        "!pip install findspark\n",
        "!pip install pyspark"
      ]
    },
    {
      "cell_type": "markdown",
      "metadata": {
        "id": "N4rxFHsxyZw3"
      },
      "source": [
        "## Downloading the Dataset"
      ]
    },
    {
      "cell_type": "code",
      "execution_count": null,
      "metadata": {
        "colab": {
          "base_uri": "https://localhost:8080/"
        },
        "id": "Wq1sJ8NzHCzu",
        "outputId": "731740f7-f3dc-41bc-dbd6-b2f4eadb5be6"
      },
      "outputs": [
        {
          "output_type": "stream",
          "name": "stdout",
          "text": [
            "Reading package lists... Done\n",
            "Building dependency tree       \n",
            "Reading state information... Done\n",
            "aria2 is already the newest version (1.33.1-1).\n",
            "The following package was automatically installed and is no longer required:\n",
            "  libnvidia-common-460\n",
            "Use 'apt autoremove' to remove it.\n",
            "0 upgraded, 0 newly installed, 0 to remove and 5 not upgraded.\n",
            "\n",
            "11/19 09:00:26 [\u001b[1;32mNOTICE\u001b[0m] Downloading 1 item(s)\n",
            "\n",
            "11/19 09:00:27 [\u001b[1;31mERROR\u001b[0m] CUID#7 - Download aborted. URI=https://files.grouplens.org/datasets/movielens/ml-25m.zip\n",
            "Exception: [AbstractCommand.cc:351] errorCode=19 URI=https://files.grouplens.org/datasets/movielens/ml-25m.zip\n",
            "  -> [AbstractCommand.cc:792] errorCode=19 CUID#7 - Name resolution for files.grouplens.org failed:Could not contact DNS servers\n",
            "\n",
            "11/19 09:00:27 [\u001b[1;32mNOTICE\u001b[0m] Download GID#261e039777cfa366 not complete: \n",
            "\n",
            "Download Results:\n",
            "gid   |stat|avg speed  |path/URI\n",
            "======+====+===========+=======================================================\n",
            "261e03|\u001b[1;31mERR\u001b[0m |       0B/s|https://files.grouplens.org/datasets/movielens/ml-25m.zip\n",
            "\n",
            "Status Legend:\n",
            "(ERR):error occurred.\n",
            "\n",
            "aria2 will resume download if the transfer is restarted.\n",
            "If there are any errors, then see the log file. See '-l' option in help/man page for details.\n"
          ]
        }
      ],
      "source": [
        "!apt-get install -y aria2\n",
        "!mkdir -p ./MovieLens/ \n",
        "!aria2c -s 16 -x 16 \"https://files.grouplens.org/datasets/movielens/ml-25m.zip\" -d ./MovieLens/"
      ]
    },
    {
      "cell_type": "markdown",
      "source": [
        "## Downloading SPARK and Java Dependencies"
      ],
      "metadata": {
        "id": "2xOXHHZ5HyLt"
      }
    },
    {
      "cell_type": "code",
      "source": [
        "!apt-get install openjdk-8-jdk-headless -qq > /dev/null\n",
        "\n",
        "!wget -q https://archive.apache.org/dist/spark/spark-3.2.1/spark-3.2.1-bin-hadoop3.2.tgz\n",
        "\n",
        "!tar xf spark-3.2.1-bin-hadoop3.2.tgz\n"
      ],
      "metadata": {
        "id": "TCejETh6Hx1-"
      },
      "execution_count": null,
      "outputs": []
    },
    {
      "cell_type": "markdown",
      "source": [
        "## Extracting the Dataset"
      ],
      "metadata": {
        "id": "GklRjCoMHaHl"
      }
    },
    {
      "cell_type": "code",
      "source": [
        "import zipfile\n",
        "with zipfile.ZipFile(\"/content/MovieLens/ml-25m.zip\", 'r') as zip_ref:\n",
        "    zip_ref.extractall(\"/content/MovieLens\")"
      ],
      "metadata": {
        "colab": {
          "base_uri": "https://localhost:8080/",
          "height": 340
        },
        "id": "rog8iPuaHZqM",
        "outputId": "03528a97-fac0-4359-95be-cc9d8275519a"
      },
      "execution_count": null,
      "outputs": [
        {
          "output_type": "error",
          "ename": "FileNotFoundError",
          "evalue": "ignored",
          "traceback": [
            "\u001b[0;31m---------------------------------------------------------------------------\u001b[0m",
            "\u001b[0;31mFileNotFoundError\u001b[0m                         Traceback (most recent call last)",
            "\u001b[0;32m<ipython-input-4-b63f635bcaf8>\u001b[0m in \u001b[0;36m<module>\u001b[0;34m\u001b[0m\n\u001b[1;32m      1\u001b[0m \u001b[0;32mimport\u001b[0m \u001b[0mzipfile\u001b[0m\u001b[0;34m\u001b[0m\u001b[0;34m\u001b[0m\u001b[0m\n\u001b[0;32m----> 2\u001b[0;31m \u001b[0;32mwith\u001b[0m \u001b[0mzipfile\u001b[0m\u001b[0;34m.\u001b[0m\u001b[0mZipFile\u001b[0m\u001b[0;34m(\u001b[0m\u001b[0;34m\"/content/MovieLens/ml-25m.zip\"\u001b[0m\u001b[0;34m,\u001b[0m \u001b[0;34m'r'\u001b[0m\u001b[0;34m)\u001b[0m \u001b[0;32mas\u001b[0m \u001b[0mzip_ref\u001b[0m\u001b[0;34m:\u001b[0m\u001b[0;34m\u001b[0m\u001b[0;34m\u001b[0m\u001b[0m\n\u001b[0m\u001b[1;32m      3\u001b[0m     \u001b[0mzip_ref\u001b[0m\u001b[0;34m.\u001b[0m\u001b[0mextractall\u001b[0m\u001b[0;34m(\u001b[0m\u001b[0;34m\"/content/MovieLens\"\u001b[0m\u001b[0;34m)\u001b[0m\u001b[0;34m\u001b[0m\u001b[0;34m\u001b[0m\u001b[0m\n",
            "\u001b[0;32m/usr/lib/python3.7/zipfile.py\u001b[0m in \u001b[0;36m__init__\u001b[0;34m(self, file, mode, compression, allowZip64, compresslevel)\u001b[0m\n\u001b[1;32m   1238\u001b[0m             \u001b[0;32mwhile\u001b[0m \u001b[0;32mTrue\u001b[0m\u001b[0;34m:\u001b[0m\u001b[0;34m\u001b[0m\u001b[0;34m\u001b[0m\u001b[0m\n\u001b[1;32m   1239\u001b[0m                 \u001b[0;32mtry\u001b[0m\u001b[0;34m:\u001b[0m\u001b[0;34m\u001b[0m\u001b[0;34m\u001b[0m\u001b[0m\n\u001b[0;32m-> 1240\u001b[0;31m                     \u001b[0mself\u001b[0m\u001b[0;34m.\u001b[0m\u001b[0mfp\u001b[0m \u001b[0;34m=\u001b[0m \u001b[0mio\u001b[0m\u001b[0;34m.\u001b[0m\u001b[0mopen\u001b[0m\u001b[0;34m(\u001b[0m\u001b[0mfile\u001b[0m\u001b[0;34m,\u001b[0m \u001b[0mfilemode\u001b[0m\u001b[0;34m)\u001b[0m\u001b[0;34m\u001b[0m\u001b[0;34m\u001b[0m\u001b[0m\n\u001b[0m\u001b[1;32m   1241\u001b[0m                 \u001b[0;32mexcept\u001b[0m \u001b[0mOSError\u001b[0m\u001b[0;34m:\u001b[0m\u001b[0;34m\u001b[0m\u001b[0;34m\u001b[0m\u001b[0m\n\u001b[1;32m   1242\u001b[0m                     \u001b[0;32mif\u001b[0m \u001b[0mfilemode\u001b[0m \u001b[0;32min\u001b[0m \u001b[0mmodeDict\u001b[0m\u001b[0;34m:\u001b[0m\u001b[0;34m\u001b[0m\u001b[0;34m\u001b[0m\u001b[0m\n",
            "\u001b[0;31mFileNotFoundError\u001b[0m: [Errno 2] No such file or directory: '/content/MovieLens/ml-25m.zip'"
          ]
        }
      ]
    },
    {
      "cell_type": "markdown",
      "source": [
        "## Start Setup Time"
      ],
      "metadata": {
        "id": "1uuGVTkBK-te"
      }
    },
    {
      "cell_type": "code",
      "execution_count": null,
      "metadata": {
        "id": "t5QmoffBehKM"
      },
      "outputs": [],
      "source": [
        "import time\n",
        "setupst = time.time()"
      ]
    },
    {
      "cell_type": "markdown",
      "metadata": {
        "id": "-YrF3LKlygix"
      },
      "source": [
        "## Setting up SPARK and Java Paths"
      ]
    },
    {
      "cell_type": "code",
      "execution_count": null,
      "metadata": {
        "id": "GgnLle5s7wyN"
      },
      "outputs": [],
      "source": [
        "import os\n",
        "os.environ[\"JAVA_HOME\"] = \"/usr/lib/jvm/java-8-openjdk-amd64\"\n",
        "os.environ[\"SPARK_HOME\"] = \"/content/spark-3.2.1-bin-hadoop3.2\""
      ]
    },
    {
      "cell_type": "markdown",
      "metadata": {
        "id": "IwcvAkwHyugv"
      },
      "source": [
        "## Importing PySpark"
      ]
    },
    {
      "cell_type": "code",
      "execution_count": null,
      "metadata": {
        "id": "1plW0XOuydNh"
      },
      "outputs": [],
      "source": [
        "import findspark\n",
        "findspark.init('/content/spark-3.2.1-bin-hadoop3.2')\n",
        "import pyspark"
      ]
    },
    {
      "cell_type": "markdown",
      "metadata": {
        "id": "hhAjfq1SywLC"
      },
      "source": [
        "## Starting up Spark Session, Clusters etc. "
      ]
    },
    {
      "cell_type": "code",
      "execution_count": null,
      "metadata": {
        "id": "8pggfi0RydNi"
      },
      "outputs": [],
      "source": [
        "from pyspark.sql import SparkSession\n",
        "spark = SparkSession.builder.appName('recommendation').getOrCreate()"
      ]
    },
    {
      "cell_type": "markdown",
      "metadata": {
        "id": "Jjivd2mUzKcU"
      },
      "source": [
        "## And importing ALS model as well as Evaluation metrics (Root Mean Square Error)"
      ]
    },
    {
      "cell_type": "code",
      "execution_count": null,
      "metadata": {
        "id": "bkB5Mf6bydNj"
      },
      "outputs": [],
      "source": [
        "from pyspark.ml.evaluation import RegressionEvaluator\n",
        "from pyspark.ml.recommendation import ALS"
      ]
    },
    {
      "cell_type": "markdown",
      "metadata": {
        "id": "fTVhSWL1z0Mr"
      },
      "source": [
        "## Reading loaded Dataset"
      ]
    },
    {
      "cell_type": "code",
      "execution_count": null,
      "metadata": {
        "id": "AD24KfKMydNj"
      },
      "outputs": [],
      "source": [
        "data = spark.read.csv('MovieLens/ml-25m/ratings.csv',inferSchema=True,header=True)\n",
        "setupet = time.time()"
      ]
    },
    {
      "cell_type": "markdown",
      "metadata": {
        "id": "WMcxfwChz8kj"
      },
      "source": [
        "## Describing / Showcasing Dataset"
      ]
    },
    {
      "cell_type": "code",
      "execution_count": null,
      "metadata": {
        "id": "R_Y0ruMsydNk"
      },
      "outputs": [],
      "source": [
        "data.head()"
      ]
    },
    {
      "cell_type": "code",
      "execution_count": null,
      "metadata": {
        "id": "zxV7rJh-ydNl"
      },
      "outputs": [],
      "source": [
        "data.printSchema()"
      ]
    },
    {
      "cell_type": "code",
      "execution_count": null,
      "metadata": {
        "id": "3DpeYGItydNn"
      },
      "outputs": [],
      "source": [
        "data.describe().show()"
      ]
    },
    {
      "cell_type": "markdown",
      "metadata": {
        "id": "lSmZWQ0D0Dca"
      },
      "source": [
        "## Implementing ML Algorithm and Evaluation"
      ]
    },
    {
      "cell_type": "markdown",
      "metadata": {
        "id": "VVaTNWGG0Kt-"
      },
      "source": [
        "### Train Test Split"
      ]
    },
    {
      "cell_type": "code",
      "execution_count": null,
      "metadata": {
        "id": "9z9oh3b_ydNo"
      },
      "outputs": [],
      "source": [
        "(train_data, test_data) = data.randomSplit([0.7, 0.3], seed=42)\n",
        "setupTime = setupet - setupst"
      ]
    },
    {
      "cell_type": "markdown",
      "metadata": {
        "id": "C7avO7cj0Ncj"
      },
      "source": [
        "Setting up and Training the ALS Model"
      ]
    },
    {
      "cell_type": "code",
      "execution_count": null,
      "metadata": {
        "id": "wxHWI-o4ydNp"
      },
      "outputs": [],
      "source": [
        "trainst = time.time()\n",
        "als = ALS(maxIter=5, regParam=0.01, userCol=\"userId\", itemCol=\"movieId\", ratingCol=\"rating\")\n",
        "model = als.fit(train_data)\n",
        "trainet = time.time()\n",
        "trainTime = trainet - trainst"
      ]
    },
    {
      "cell_type": "markdown",
      "metadata": {
        "id": "ti0VUWjw0Wa5"
      },
      "source": [
        "### Testing trained model"
      ]
    },
    {
      "cell_type": "code",
      "execution_count": null,
      "metadata": {
        "id": "tT5gyD6WydNq"
      },
      "outputs": [],
      "source": [
        "testst = time.time()\n",
        "predictions = model.transform(test_data)\n",
        "testet = time.time()\n",
        "testTime = testet - testst"
      ]
    },
    {
      "cell_type": "code",
      "execution_count": null,
      "metadata": {
        "id": "zvXhzCBpydNq"
      },
      "outputs": [],
      "source": [
        "predictions.show()"
      ]
    },
    {
      "cell_type": "markdown",
      "metadata": {
        "id": "rhXMW87t0e3F"
      },
      "source": [
        "### Evaluating Predictions"
      ]
    },
    {
      "cell_type": "code",
      "execution_count": null,
      "metadata": {
        "id": "CiD8NclDydNr"
      },
      "outputs": [],
      "source": [
        "evaluator = RegressionEvaluator(metricName=\"rmse\", labelCol=\"rating\",predictionCol=\"prediction\")\n",
        "rmse = evaluator.evaluate(predictions)\n",
        "print(\"Root-mean-square error = \" + str(rmse))"
      ]
    },
    {
      "cell_type": "markdown",
      "metadata": {
        "id": "goYQYpw70j3Z"
      },
      "source": [
        "## Extracting information of one user"
      ]
    },
    {
      "cell_type": "code",
      "execution_count": null,
      "metadata": {
        "id": "BOfxtFuGydNs"
      },
      "outputs": [],
      "source": [
        "userId = int(input('Enter a User ID to find recommendations for: '))\n",
        "single_user = test_data.filter(test_data['userId']==12).select(['movieId','userId'])"
      ]
    },
    {
      "cell_type": "code",
      "execution_count": null,
      "metadata": {
        "id": "yYj2tyb4ydNs"
      },
      "outputs": [],
      "source": [
        "single_user.show()"
      ]
    },
    {
      "cell_type": "markdown",
      "metadata": {
        "id": "7gueNFXk0p0m"
      },
      "source": [
        "## Running Model again for one selected user (testing)"
      ]
    },
    {
      "cell_type": "code",
      "execution_count": null,
      "metadata": {
        "id": "yABzy_5qydNt"
      },
      "outputs": [],
      "source": [
        "test1st = time.time()\n",
        "reccomendations = model.transform(single_user)\n",
        "test1et = time.time()\n",
        "test1Time = test1et - test1st"
      ]
    },
    {
      "cell_type": "code",
      "execution_count": null,
      "metadata": {
        "id": "IhhRuY5jydNt"
      },
      "outputs": [],
      "source": [
        "reccomendations.orderBy('prediction',ascending=False).show()"
      ]
    },
    {
      "cell_type": "markdown",
      "metadata": {
        "id": "YtzjeCy40z7_"
      },
      "source": [
        "## Analysing with the help of supporting Datasets (Easier to Understand)"
      ]
    },
    {
      "cell_type": "code",
      "execution_count": null,
      "metadata": {
        "id": "YUmTzUY-ydNt"
      },
      "outputs": [],
      "source": [
        "moviesdf = spark.read.csv(r\"MovieLens/ml-25m/movies.csv\", inferSchema = True, header = True)  \n",
        "moviesdf.show()"
      ]
    },
    {
      "cell_type": "markdown",
      "metadata": {
        "id": "8YXn1oCV1EK-"
      },
      "source": [
        "## Final Predictions with Movie Titles"
      ]
    },
    {
      "cell_type": "code",
      "execution_count": null,
      "metadata": {
        "id": "UdyLavaP-4bo"
      },
      "outputs": [],
      "source": [
        "rec = reccomendations\n",
        "joined = moviesdf.join(rec, ['movieId'],how=\"inner\")\n",
        "joined.select('userId', 'movieId', 'title', 'genres', 'prediction').orderBy('prediction', ascending=False).show()"
      ]
    },
    {
      "cell_type": "code",
      "execution_count": null,
      "metadata": {
        "id": "9JCa8l7yeqsV"
      },
      "outputs": [],
      "source": [
        "setupTime\n",
        "trainTime\n",
        "testTime\n",
        "test1time"
      ]
    }
  ],
  "metadata": {
    "anaconda-cloud": {},
    "colab": {
      "provenance": [],
      "include_colab_link": true
    },
    "kernelspec": {
      "display_name": "Python 3",
      "language": "python",
      "name": "python3"
    },
    "language_info": {
      "codemirror_mode": {
        "name": "ipython",
        "version": 3
      },
      "file_extension": ".py",
      "mimetype": "text/x-python",
      "name": "python",
      "nbconvert_exporter": "python",
      "pygments_lexer": "ipython3",
      "version": "3.6.9"
    }
  },
  "nbformat": 4,
  "nbformat_minor": 0
}